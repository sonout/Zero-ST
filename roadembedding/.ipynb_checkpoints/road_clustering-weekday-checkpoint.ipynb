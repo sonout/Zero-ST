{
 "cells": [
  {
   "cell_type": "markdown",
   "metadata": {},
   "source": [
    "## Cluster roads ##\n",
    "\n",
    "For each street calc historical averages per timestep\n",
    "\n",
    "Use k means to cluster"
   ]
  },
  {
   "cell_type": "code",
   "execution_count": null,
   "metadata": {},
   "outputs": [],
   "source": [
    "import yaml\n",
    "import numpy as np\n",
    "import pandas as pd\n",
    "\n",
    "# We want to import stuff from parent directory\n",
    "import sys\n",
    "import os\n",
    "sys.path.append(os.path.join(sys.path[0], '..'))\n",
    "\n",
    "from src import db_requests"
   ]
  },
  {
   "cell_type": "code",
   "execution_count": null,
   "metadata": {},
   "outputs": [],
   "source": [
    "## CONFIGURATIONS #####\n",
    "\n",
    "with open(\"../db.yaml\", 'r') as dbfi:\n",
    "    db_credentials = yaml.safe_load(dbfi)\n",
    "\n",
    "source_city = 'wolfsburg'\n",
    "save_path = '../data'\n",
    "min_measurements = 3000\n",
    "n_clusters = 15\n",
    "\n",
    "# Time\n",
    "train_date_begin = \"2018-12-01\"\n",
    "train_date_end = \"2019-01-16\"\n",
    "#test_date_begin = \"2019-01-17\"\n",
    "#test_date_end = \"2019-01-31\"\n",
    "hour_from = \"7\"\n",
    "hour_to = \"21\""
   ]
  },
  {
   "cell_type": "code",
   "execution_count": null,
   "metadata": {},
   "outputs": [],
   "source": [
    "# Get Traffic data\n",
    "\n",
    "traffic = db_requests.getTrafficDataMinMeasurements(source_city, min_measurements, train_date_begin, train_date_end, hour_from, hour_to, db_credentials)\n",
    "traffic = traffic.rename(columns={'time': 'datetime'})\n",
    "traffic[\"time\"] = traffic['datetime'].dt.time"
   ]
  },
  {
   "cell_type": "code",
   "execution_count": null,
   "metadata": {
    "scrolled": false
   },
   "outputs": [],
   "source": [
    "traffic[\"dow-tod\"] = traffic['datetime'].dt.dayofweek.astype(str) + \"-\" + traffic[\"time\"].astype(str)"
   ]
  },
  {
   "cell_type": "code",
   "execution_count": null,
   "metadata": {},
   "outputs": [],
   "source": [
    "traffic"
   ]
  },
  {
   "cell_type": "markdown",
   "metadata": {},
   "source": [
    "### Get historical averages of Roads ###"
   ]
  },
  {
   "cell_type": "code",
   "execution_count": null,
   "metadata": {},
   "outputs": [],
   "source": [
    "# We need the average speed for each street at each timestep\n",
    "\n",
    "#traffic_pivot = pd.pivot_table(traffic,index=[\"id\", \"time\"],values=[\"speed\"],aggfunc=np.mean)\n",
    "traffic_pivot = pd.pivot_table(traffic,index=[\"id\"], columns = \"dow-tod\",values=[\"speed\"],aggfunc=np.mean)\n"
   ]
  },
  {
   "cell_type": "code",
   "execution_count": null,
   "metadata": {},
   "outputs": [],
   "source": [
    "traffic_pivot"
   ]
  },
  {
   "cell_type": "markdown",
   "metadata": {},
   "source": [
    "### Cluster Roads ###"
   ]
  },
  {
   "cell_type": "code",
   "execution_count": null,
   "metadata": {
    "scrolled": true
   },
   "outputs": [],
   "source": [
    "from sklearn.cluster import KMeans"
   ]
  },
  {
   "cell_type": "code",
   "execution_count": null,
   "metadata": {},
   "outputs": [],
   "source": [
    "# There are NaN Values, which leads to errors with k means\n",
    "# fill them with 60\n",
    "traffic_pivot = traffic_pivot.fillna(0)"
   ]
  },
  {
   "cell_type": "code",
   "execution_count": null,
   "metadata": {
    "scrolled": true
   },
   "outputs": [],
   "source": [
    "X = traffic_pivot\n",
    "\n",
    "kmeans = KMeans(n_clusters=n_clusters, random_state=0).fit(X)"
   ]
  },
  {
   "cell_type": "code",
   "execution_count": null,
   "metadata": {},
   "outputs": [],
   "source": [
    "# Create DF with columns \"id\" and \"cluster\" and fill\n",
    "traffic_clustered = pd.DataFrame(index=traffic_pivot.index)\n",
    "traffic_clustered['cluster'] = kmeans.labels_"
   ]
  },
  {
   "cell_type": "code",
   "execution_count": null,
   "metadata": {},
   "outputs": [],
   "source": [
    "# Save labels\n",
    "traffic_clustered[['cluster']].to_csv(save_path + f'/labels_{source_city}_{n_clusters}.csv')"
   ]
  },
  {
   "cell_type": "markdown",
   "metadata": {},
   "source": [
    "# Plot clusters"
   ]
  },
  {
   "cell_type": "code",
   "execution_count": null,
   "metadata": {},
   "outputs": [],
   "source": [
    "%matplotlib inline\n",
    "import matplotlib.pyplot as plt\n",
    "plt.rcParams['figure.figsize'] = [15, 5]"
   ]
  },
  {
   "cell_type": "code",
   "execution_count": null,
   "metadata": {
    "scrolled": false
   },
   "outputs": [],
   "source": [
    "#for i in range(1,11):\n",
    "#    n_clusters = i\n",
    "\n",
    "\n",
    "#    kmeans = KMeans(n_clusters=n_clusters, random_state=0).fit(traffic_pivot)\n",
    "#    centroids = pd.DataFrame(np.transpose(kmeans.cluster_centers_))\n",
    "#    fig = centroids.plot()\n",
    "#    fig.grid()\n",
    "#    fig.set_title(\"k=%s\" % i)"
   ]
  },
  {
   "cell_type": "markdown",
   "metadata": {},
   "source": [
    "### Check Clusters ###\n",
    "\n",
    "1. Get geometry column of streetgraph\n",
    "2. Merge with traffic_clustered\n",
    "3. Print clusters on map"
   ]
  },
  {
   "cell_type": "code",
   "execution_count": null,
   "metadata": {},
   "outputs": [],
   "source": [
    "# Get geometry column from streetgraph in db\n",
    "roads_geom = db_requests.getGeometry(db_credentials)\n",
    "# Set index to id (for easy join)\n",
    "roads_geom = roads_geom.set_index('id')\n",
    "# Join to clustered data\n",
    "traffic_clustered = roads_geom.join(traffic_clustered, how='right')"
   ]
  },
  {
   "cell_type": "code",
   "execution_count": null,
   "metadata": {},
   "outputs": [],
   "source": [
    "# Change cluster to str, so it is treated as category\n",
    "traffic_clustered['cluster'] = traffic_clustered['cluster'].apply(str)\n",
    "# Draw map \n",
    "m = traffic_clustered.explore(\n",
    "     column=\"cluster\", # make choropleth based on \"BoroName\" column\n",
    "     tooltip=\"cluster\", # show \"BoroName\" value in tooltip (on hover)\n",
    "     popup=True, # show all values in popup (on click)\n",
    "     cmap=\"Set1\" # use \"Set1\" matplotlib colormap\n",
    "    )\n",
    "\n",
    "m"
   ]
  },
  {
   "cell_type": "code",
   "execution_count": null,
   "metadata": {},
   "outputs": [],
   "source": [
    "#m.save(str(n_clusters) + \"_clusters.html\")"
   ]
  },
  {
   "cell_type": "code",
   "execution_count": null,
   "metadata": {},
   "outputs": [],
   "source": [
    "# Check by looking at data\n",
    "\n",
    "# Join traffic data\n",
    "traffic_clustered = traffic_clustered.join(traffic_pivot)\n"
   ]
  },
  {
   "cell_type": "code",
   "execution_count": null,
   "metadata": {
    "scrolled": true
   },
   "outputs": [],
   "source": [
    "# Look at clusters\n",
    "traffic_clustered.loc[traffic_clustered['cluster'] == \"4\"]"
   ]
  },
  {
   "cell_type": "markdown",
   "metadata": {},
   "source": [
    "Traffic clusters mostly driven by similar speed, not by specific behaviour.\n",
    "\n",
    "Normalize speed with speedlimit? -> rel. difference of speed to speedlimit"
   ]
  },
  {
   "cell_type": "markdown",
   "metadata": {},
   "source": [
    "### Save the labels ###\n",
    "\n",
    "Safe the id and the corresponding cluster"
   ]
  },
  {
   "cell_type": "code",
   "execution_count": null,
   "metadata": {},
   "outputs": [],
   "source": [
    "traffic_clustered[['cluster']].to_csv(save_path + f'/labels_{source_city}.csv')"
   ]
  },
  {
   "cell_type": "code",
   "execution_count": null,
   "metadata": {},
   "outputs": [],
   "source": []
  }
 ],
 "metadata": {
  "kernelspec": {
   "display_name": "Python 3 (ipykernel)",
   "language": "python",
   "name": "python3"
  },
  "language_info": {
   "codemirror_mode": {
    "name": "ipython",
    "version": 3
   },
   "file_extension": ".py",
   "mimetype": "text/x-python",
   "name": "python",
   "nbconvert_exporter": "python",
   "pygments_lexer": "ipython3",
   "version": "3.9.6"
  }
 },
 "nbformat": 4,
 "nbformat_minor": 2
}
