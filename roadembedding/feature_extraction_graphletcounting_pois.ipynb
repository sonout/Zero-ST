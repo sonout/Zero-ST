{
 "cells": [
  {
   "cell_type": "code",
   "execution_count": null,
   "metadata": {},
   "outputs": [],
   "source": [
    "import yaml\n",
    "import numpy as np\n",
    "import pandas as pd\n",
    "import networkx as nx\n",
    "\n",
    "# We want to import stuff from parent directory\n",
    "import sys\n",
    "import os\n",
    "sys.path.append(os.path.join(sys.path[0], '..'))\n",
    "\n",
    "from src import data_preperation\n",
    "from src import db_requests\n",
    "\n",
    "### VGAE\n",
    "import os.path as osp\n",
    "import argparse\n",
    "import torch\n",
    "\n",
    "import orca"
   ]
  },
  {
   "cell_type": "code",
   "execution_count": null,
   "metadata": {},
   "outputs": [],
   "source": [
    "##### CONFIGURATIONS #####\n",
    "\n",
    "with open(\"../db.yaml\", 'r') as dbfi:\n",
    "    db_credentials = yaml.safe_load(dbfi)\n",
    "\n",
    "city = 'braunschweig'\n",
    "save_path = '../data'"
   ]
  },
  {
   "cell_type": "code",
   "execution_count": null,
   "metadata": {},
   "outputs": [],
   "source": [
    "streetgraph = db_requests.getStreetGraph_forCity(db_credentials, city)"
   ]
  },
  {
   "cell_type": "code",
   "execution_count": null,
   "metadata": {},
   "outputs": [],
   "source": [
    "streetgraph"
   ]
  },
  {
   "cell_type": "markdown",
   "metadata": {},
   "source": [
    "## POIs"
   ]
  },
  {
   "cell_type": "code",
   "execution_count": null,
   "metadata": {},
   "outputs": [],
   "source": [
    "poi_df = db_requests.getPOIs(db_credentials)"
   ]
  },
  {
   "cell_type": "code",
   "execution_count": null,
   "metadata": {
    "scrolled": true
   },
   "outputs": [],
   "source": [
    "poi_df"
   ]
  },
  {
   "cell_type": "markdown",
   "metadata": {},
   "source": [
    "-- restaurants and cafes <br>\n",
    "-- bakery, restaurant, fast_food, cafe, pub<br>\n",
    "<br>\n",
    "-- daily POIs <br>\n",
    "-- supermarket, pharmacy, bank, kindergarten, school, sports_centre, post_office<br>"
   ]
  },
  {
   "cell_type": "code",
   "execution_count": null,
   "metadata": {},
   "outputs": [],
   "source": [
    "# Iterate through each street and count poi groups\n",
    "for index, row in poi_df.iterrows():\n",
    "    eating_count = 0\n",
    "    daily_count = 0\n",
    "    stop_count = 0\n",
    "    \n",
    "    pois = row['poi_id']\n",
    "    # Iterate over all near POIs and count groups\n",
    "    for poi in pois:\n",
    "        if poi in ['bakery', 'restaurant', 'fast_food', 'cafe', 'pub']:\n",
    "            eating_count = eating_count + 1\n",
    "        elif poi in ['supermarket', 'pharmacy', 'bank', 'kindergarten', 'school', 'sports_centre', 'post_office', 'parking']:\n",
    "            daily_count = daily_count + 1\n",
    "        elif poi in ['stop_position']:\n",
    "            stop_count = stop_count + 1\n",
    "    \n",
    "    # Add to df\n",
    "    poi_df.at[index,'eating_count'] = eating_count\n",
    "    poi_df.at[index,'daily_count'] = daily_count\n",
    "    poi_df.at[index,'stop_count'] = stop_count\n",
    "    "
   ]
  },
  {
   "cell_type": "code",
   "execution_count": null,
   "metadata": {
    "scrolled": true
   },
   "outputs": [],
   "source": [
    "# Delete columns\n",
    "poi_df = poi_df.drop('array_agg', 1)\n",
    "poi_df = poi_df.drop('poi_id', 1)"
   ]
  },
  {
   "cell_type": "code",
   "execution_count": null,
   "metadata": {},
   "outputs": [],
   "source": [
    "streetgraph = streetgraph.merge(poi_df, on='id', how='left')\n",
    "# Some streets do not have pois, fill them with 0\n",
    "streetgraph = streetgraph.fillna(0)"
   ]
  },
  {
   "cell_type": "markdown",
   "metadata": {},
   "source": [
    "## Graph"
   ]
  },
  {
   "cell_type": "code",
   "execution_count": null,
   "metadata": {},
   "outputs": [],
   "source": [
    "# Create networkz graph\n",
    "G = data_preperation.construct_graph(streetgraph)"
   ]
  },
  {
   "cell_type": "markdown",
   "metadata": {},
   "source": [
    "### Get Edge Degrees"
   ]
  },
  {
   "cell_type": "code",
   "execution_count": null,
   "metadata": {},
   "outputs": [],
   "source": [
    "# This lists save the amount of edges \n",
    "first_deg_list = []\n",
    "second_deg_list = []\n",
    "third_deg_list = []\n",
    "\n",
    "# Iterate over each street and count edges\n",
    "for index, row in streetgraph.iterrows():\n",
    "    row_target = row['target']\n",
    "    \n",
    "    # Get next streets\n",
    "    out_edges_1st = list(G.out_edges(row_target))\n",
    "    amount_1st = len(out_edges_1st)\n",
    "    first_deg_list.append(amount_1st)\n",
    "    \n",
    "    # Get second degree streets\n",
    "    out_edges_2nd = []    \n",
    "    for edge in out_edges_1st:\n",
    "        out_edges_2nd = out_edges_2nd + list(G.out_edges(edge[1]))\n",
    "    amount_2nd = len(out_edges_2nd)\n",
    "    second_deg_list.append(amount_2nd)\n",
    "    \n",
    "    # Get third degree streets\n",
    "    out_edges_3rd = []\n",
    "    for edge in out_edges_2nd:\n",
    "        out_edges_3rd = out_edges_3rd + list(G.out_edges(edge[1]))\n",
    "    amount_3rd = len(out_edges_3rd)\n",
    "    third_deg_list.append(amount_3rd)"
   ]
  },
  {
   "cell_type": "code",
   "execution_count": null,
   "metadata": {},
   "outputs": [],
   "source": [
    "# Add to Table\n",
    "#streetgraph['edges_first_deg'] = first_deg_list\n",
    "#streetgraph['edges_second_deg'] = second_deg_list\n",
    "#streetgraph['edges_third_deg'] = third_deg_list"
   ]
  },
  {
   "cell_type": "code",
   "execution_count": null,
   "metadata": {},
   "outputs": [],
   "source": [
    "# Create a Crossings List\n",
    "# If next degree > 2 then its a crossing\n",
    "crossing_list = [1 if n>2 else 0  for n in  first_deg_list]"
   ]
  },
  {
   "cell_type": "code",
   "execution_count": null,
   "metadata": {},
   "outputs": [],
   "source": [
    "# Add to table\n",
    "streetgraph['crossing'] = crossing_list"
   ]
  },
  {
   "cell_type": "markdown",
   "metadata": {},
   "source": [
    "## Graphembedding ##"
   ]
  },
  {
   "cell_type": "code",
   "execution_count": null,
   "metadata": {},
   "outputs": [],
   "source": []
  },
  {
   "cell_type": "code",
   "execution_count": null,
   "metadata": {
    "scrolled": true
   },
   "outputs": [],
   "source": [
    "# Get Linegraph\n",
    "L = nx.line_graph(G)\n",
    "print(len(L.nodes))"
   ]
  },
  {
   "cell_type": "code",
   "execution_count": null,
   "metadata": {},
   "outputs": [],
   "source": [
    "\n",
    "undirected_zero_start_L = nx.Graph(L)\n",
    "undirected_zero_start_L = nx.convert_node_labels_to_integers(undirected_zero_start_L)\n",
    "\n",
    "for node in undirected_zero_start_L:\n",
    "    if undirected_zero_start_L.has_edge(node, node):\n",
    "        undirected_zero_start_L.remove_edge(node, node)\n",
    "\n",
    "counts = orca.orbit_counts(\"node\", 5, undirected_zero_start_L)"
   ]
  },
  {
   "cell_type": "code",
   "execution_count": null,
   "metadata": {},
   "outputs": [],
   "source": [
    "embeddings = np.array(counts)"
   ]
  },
  {
   "cell_type": "code",
   "execution_count": null,
   "metadata": {},
   "outputs": [],
   "source": []
  },
  {
   "cell_type": "code",
   "execution_count": null,
   "metadata": {},
   "outputs": [],
   "source": [
    "embed_size=embeddings.shape[1]"
   ]
  },
  {
   "cell_type": "markdown",
   "metadata": {},
   "source": [
    "## Combine all feature extractions ##\n",
    "\n",
    "Create a numpy array with shape (N, #road_feats + #graph_embedding)."
   ]
  },
  {
   "cell_type": "code",
   "execution_count": null,
   "metadata": {},
   "outputs": [],
   "source": [
    "# Features : dist_citycentre, max_speed, type, length, graph_embedding\n",
    "streetgraph_encoded = pd.get_dummies(streetgraph, columns=[\"type\"])\n",
    "streetgraph_encoded.head()"
   ]
  },
  {
   "cell_type": "code",
   "execution_count": null,
   "metadata": {
    "scrolled": true
   },
   "outputs": [],
   "source": [
    "# Iterate through dataframe and add the embeddings\n",
    "\n",
    "# Create np array with columns: id, \n",
    "N = len(streetgraph_encoded)\n",
    "feats_mx = np.empty([N, embed_size+len(streetgraph_encoded.columns)])\n",
    "\n",
    "for index, row in streetgraph_encoded.iterrows():\n",
    "    # The dict key is a combination of source and target id\n",
    "    source = row['source']\n",
    "    target = row['target']\n",
    "    node_id = (source, target)\n",
    "    #print(street_id)\n",
    "    \n",
    "    # Find the right index \n",
    "    idx = list(L.nodes).index(node_id)\n",
    "\n",
    "    # Get the embedding\n",
    "    emb = embeddings[idx]\n",
    "    \n",
    "    # Add embedding and streefeats to a numpy array\n",
    "    newrow = np.concatenate((row.values, emb))\n",
    "    feats_mx[index] = newrow\n",
    "\n",
    "# Drop the target and source columns\n",
    "feats_mx = np.delete(feats_mx, np.s_[3:5], axis=1)   "
   ]
  },
  {
   "cell_type": "code",
   "execution_count": null,
   "metadata": {},
   "outputs": [],
   "source": [
    "np.set_printoptions(precision=3)\n",
    "np.set_printoptions(suppress=True)\n",
    "feats_mx[0,:]"
   ]
  },
  {
   "cell_type": "code",
   "execution_count": null,
   "metadata": {},
   "outputs": [],
   "source": [
    "feats_mx.shape"
   ]
  },
  {
   "cell_type": "code",
   "execution_count": null,
   "metadata": {},
   "outputs": [],
   "source": [
    "# Save\n",
    "np.save(save_path + f'/feats_mx_ablation1_{city}.npy', feats_mx)"
   ]
  },
  {
   "cell_type": "code",
   "execution_count": null,
   "metadata": {},
   "outputs": [],
   "source": []
  },
  {
   "cell_type": "code",
   "execution_count": null,
   "metadata": {},
   "outputs": [],
   "source": []
  }
 ],
 "metadata": {
  "kernelspec": {
   "display_name": "Python 3 (ipykernel)",
   "language": "python",
   "name": "python3"
  },
  "language_info": {
   "codemirror_mode": {
    "name": "ipython",
    "version": 3
   },
   "file_extension": ".py",
   "mimetype": "text/x-python",
   "name": "python",
   "nbconvert_exporter": "python",
   "pygments_lexer": "ipython3",
   "version": "3.9.6"
  }
 },
 "nbformat": 4,
 "nbformat_minor": 2
}
